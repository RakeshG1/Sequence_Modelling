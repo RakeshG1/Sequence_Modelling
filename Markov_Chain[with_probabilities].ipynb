{
 "cells": [
  {
   "cell_type": "markdown",
   "metadata": {},
   "source": [
    "#### `Import Libraries`"
   ]
  },
  {
   "cell_type": "code",
   "execution_count": 70,
   "metadata": {},
   "outputs": [],
   "source": [
    "import pandas as pd \n",
    "import numpy as np \n",
    "import os \n",
    "import json\n",
    "import sys \n",
    "import datetime\n",
    "import warnings \n",
    "import copy\n",
    "import itertools\n",
    "import seaborn as sns\n",
    "import networkx as nx\n",
    "import matplotlib.pyplot as plt\n",
    "from collections import Counter\n",
    "\n",
    "warnings.filterwarnings(\"ignore\")\n",
    "%matplotlib inline"
   ]
  },
  {
   "cell_type": "markdown",
   "metadata": {},
   "source": [
    "### `Sample Data`"
   ]
  },
  {
   "cell_type": "markdown",
   "metadata": {},
   "source": [
    "- `Reference Data for Next Text Prediction`"
   ]
  },
  {
   "cell_type": "code",
   "execution_count": 1,
   "metadata": {},
   "outputs": [
    {
     "name": "stdout",
     "output_type": "stream",
     "text": [
      "weather is good. play cricket. weather is good to play. people playing in ground. to play in ground. to play cricket in ground. nice weather to play in ground.\n",
      "              best time to play in ground. nice weather to play in ground. good weather to play cricket in ground. shall we play cricket in ground?\n"
     ]
    }
   ],
   "source": [
    "ref_data = '''weather is good. play cricket. weather is good to play. people playing in ground. to play in ground. to play cricket in ground. nice weather to play in ground.\n",
    "              best time to play in ground. nice weather to play in ground. good weather to play cricket in ground. shall we play cricket in ground?'''\n",
    "print(ref_data)"
   ]
  },
  {
   "cell_type": "markdown",
   "metadata": {},
   "source": [
    "- `Data Split`"
   ]
  },
  {
   "cell_type": "code",
   "execution_count": 3,
   "metadata": {},
   "outputs": [
    {
     "name": "stdout",
     "output_type": "stream",
     "text": [
      "['weather', 'is', 'good.', 'play', 'cricket.', 'weather', 'is', 'good', 'to', 'play.', 'people', 'playing', 'in', 'ground.', 'to', 'play', 'in', 'ground.', 'to', 'play', 'cricket', 'in', 'ground.', 'nice', 'weather', 'to', 'play', 'in', 'ground.', 'best', 'time', 'to', 'play', 'in', 'ground.', 'nice', 'weather', 'to', 'play', 'in', 'ground.', 'good', 'weather', 'to', 'play', 'cricket', 'in', 'ground.', 'shall', 'we', 'play', 'cricket', 'in', 'ground?']\n"
     ]
    }
   ],
   "source": [
    "text_corpus = ref_data.split()\n",
    "print(text_corpus)"
   ]
  },
  {
   "cell_type": "markdown",
   "metadata": {},
   "source": [
    "- `Key Pair Formation Based on Current & Next Word`"
   ]
  },
  {
   "cell_type": "code",
   "execution_count": 4,
   "metadata": {},
   "outputs": [],
   "source": [
    "def get_word_pairs(text_corpus):\n",
    "    ''' \n",
    "    This functions reads Text Corpus and creates word-pairs\n",
    "    Word Pair : Present Word, Next Word\n",
    "    '''\n",
    "    for i in range(len(text_corpus) - 1):\n",
    "        yield (text_corpus[i], text_corpus[i+1])"
   ]
  },
  {
   "cell_type": "code",
   "execution_count": 44,
   "metadata": {},
   "outputs": [
    {
     "name": "stdout",
     "output_type": "stream",
     "text": [
      "Key Pairs[i.e., Present Word --> Next Word] Occurance : \n",
      "--------------------------------------------------\n",
      "{'weather': ['is', 'is', 'to', 'to', 'to'], 'is': ['good.', 'good'], 'good.': 'play', 'play': ['cricket.', 'in', 'cricket', 'in', 'in', 'in', 'cricket', 'cricket'], 'cricket.': 'weather', 'good': ['to', 'weather'], 'to': ['play.', 'play', 'play', 'play', 'play', 'play', 'play'], 'play.': 'people', 'people': 'playing', 'playing': 'in', 'in': ['ground.', 'ground.', 'ground.', 'ground.', 'ground.', 'ground.', 'ground.', 'ground?'], 'ground.': ['to', 'to', 'nice', 'best', 'nice', 'good', 'shall'], 'cricket': ['in', 'in', 'in'], 'nice': ['weather', 'weather'], 'best': 'time', 'time': 'to', 'shall': 'we', 'we': 'play'}\n"
     ]
    }
   ],
   "source": [
    "##### Creating Word Pairs #####\n",
    "word_pairs = get_word_pairs(text_corpus)\n",
    "\n",
    "##### Creating Word Pairs Dictionary #####\n",
    "key_pairs_dictr = {}\n",
    "for word1, word2 in word_pairs:\n",
    "    if word1 in key_pairs_dictr.keys():\n",
    "        # print(\"     >> Inside If\")\n",
    "        # print(\"       \", word1, \", \", word2)\n",
    "        temp_list = []\n",
    "        temp_data = key_pairs_dictr[word1]\n",
    "        ##### If Key has single value\n",
    "        if type(temp_data)==str:\n",
    "            temp_list.append(temp_data)\n",
    "            temp_list.append(word2)\n",
    "            key_pairs_dictr[word1] = temp_list\n",
    "        ##### If Key has multiple list values    \n",
    "        else:\n",
    "            temp_data.append(word2)\n",
    "            key_pairs_dictr[word1] = temp_data\n",
    "    else:\n",
    "        # print(\"     >> Inside Else\")\n",
    "        key_pairs_dictr[word1] = word2\n",
    "\n",
    "print(\"Key Pairs[i.e., Present Word --> Next Word] Occurance : \")\n",
    "print(\"--\"*25)\n",
    "print(key_pairs_dictr)"
   ]
  },
  {
   "cell_type": "markdown",
   "metadata": {},
   "source": [
    "- `Key Pairs Occurance Probabilities`"
   ]
  },
  {
   "cell_type": "code",
   "execution_count": 45,
   "metadata": {},
   "outputs": [
    {
     "name": "stdout",
     "output_type": "stream",
     "text": [
      "Key Pairs Occurance Probabilities : \n",
      "----------------------------------------\n",
      "{'weather': {'is': 0.4, 'to': 0.6}, 'is': {'good.': 0.5, 'good': 0.5}, 'good.': {'play': 1.0}, 'play': {'cricket.': 0.125, 'in': 0.5, 'cricket': 0.375}, 'cricket.': {'weather': 1.0}, 'good': {'to': 0.5, 'weather': 0.5}, 'to': {'play.': 0.143, 'play': 0.857}, 'play.': {'people': 1.0}, 'people': {'playing': 1.0}, 'playing': {'in': 1.0}, 'in': {'ground.': 0.875, 'ground?': 0.125}, 'ground.': {'to': 0.286, 'nice': 0.286, 'best': 0.143, 'good': 0.143, 'shall': 0.143}, 'cricket': {'in': 1.0}, 'nice': {'weather': 1.0}, 'best': {'time': 1.0}, 'time': {'to': 1.0}, 'shall': {'we': 1.0}, 'we': {'play': 1.0}}\n"
     ]
    }
   ],
   "source": [
    "##### Occurance Counts #####\n",
    "key_pairs_dictr_occur_count = {}\n",
    "for key in key_pairs_dictr.keys():\n",
    "    dictr_data = key_pairs_dictr[key]\n",
    "    if type(dictr_data)==list:\n",
    "        dictr_occur = dict(Counter(dictr_data))\n",
    "        # print(key,\"-->\",dictr_occur)\n",
    "        key_pairs_dictr_occur_count[key] = dictr_occur\n",
    "    else:\n",
    "        # print(key,\"-->\",dictr_data)     \n",
    "        key_pairs_dictr_occur_count[key] = {dictr_data:1}   \n",
    "\n",
    "##### Occurance Probabilities #####\n",
    "key_pairs_dictr_occur_probs = {k:{k1:round(v1/sum(v.values()),3) for k1,v1 in v.items()} for k,v in key_pairs_dictr_occur_count.items()}  \n",
    "print(\"Key Pairs Occurance Probabilities : \")\n",
    "print(\"--\"*20)\n",
    "print(key_pairs_dictr_occur_probs)      "
   ]
  },
  {
   "cell_type": "markdown",
   "metadata": {},
   "source": [
    "- `Json View`"
   ]
  },
  {
   "cell_type": "code",
   "execution_count": 48,
   "metadata": {},
   "outputs": [
    {
     "name": "stdout",
     "output_type": "stream",
     "text": [
      "{\n",
      "      \"weather\": {\n",
      "            \"is\": 0.4,\n",
      "            \"to\": 0.6\n",
      "      },\n",
      "      \"is\": {\n",
      "            \"good.\": 0.5,\n",
      "            \"good\": 0.5\n",
      "      },\n",
      "      \"good.\": {\n",
      "            \"play\": 1.0\n",
      "      },\n",
      "      \"play\": {\n",
      "            \"cricket.\": 0.125,\n",
      "            \"in\": 0.5,\n",
      "            \"cricket\": 0.375\n",
      "      },\n",
      "      \"cricket.\": {\n",
      "            \"weather\": 1.0\n",
      "      },\n",
      "      \"good\": {\n",
      "            \"to\": 0.5,\n",
      "            \"weather\": 0.5\n",
      "      },\n",
      "      \"to\": {\n",
      "            \"play.\": 0.143,\n",
      "            \"play\": 0.857\n",
      "      },\n",
      "      \"play.\": {\n",
      "            \"people\": 1.0\n",
      "      },\n",
      "      \"people\": {\n",
      "            \"playing\": 1.0\n",
      "      },\n",
      "      \"playing\": {\n",
      "            \"in\": 1.0\n",
      "      },\n",
      "      \"in\": {\n",
      "            \"ground.\": 0.875,\n",
      "            \"ground?\": 0.125\n",
      "      },\n",
      "      \"ground.\": {\n",
      "            \"to\": 0.286,\n",
      "            \"nice\": 0.286,\n",
      "            \"best\": 0.143,\n",
      "            \"good\": 0.143,\n",
      "            \"shall\": 0.143\n",
      "      },\n",
      "      \"cricket\": {\n",
      "            \"in\": 1.0\n",
      "      },\n",
      "      \"nice\": {\n",
      "            \"weather\": 1.0\n",
      "      },\n",
      "      \"best\": {\n",
      "            \"time\": 1.0\n",
      "      },\n",
      "      \"time\": {\n",
      "            \"to\": 1.0\n",
      "      },\n",
      "      \"shall\": {\n",
      "            \"we\": 1.0\n",
      "      },\n",
      "      \"we\": {\n",
      "            \"play\": 1.0\n",
      "      }\n",
      "}\n"
     ]
    }
   ],
   "source": [
    "print(json.dumps(key_pairs_dictr_occur_probs, indent=6))"
   ]
  },
  {
   "cell_type": "markdown",
   "metadata": {},
   "source": [
    "- `Words Occurance Graph Plot`"
   ]
  },
  {
   "cell_type": "code",
   "execution_count": 83,
   "metadata": {},
   "outputs": [
    {
     "data": {
      "image/png": "[encoded data removed]",
      "text/plain": [
       "<Figure size 1440x576 with 1 Axes>"
      ]
     },
     "metadata": {},
     "output_type": "display_data"
    }
   ],
   "source": [
    "##### Create Graph Plot #####\n",
    "fig, ax = plt.subplots(nrows=1, ncols=1, figsize=(20, 8))\n",
    "g = nx.DiGraph()\n",
    "# g.add_nodes_from([\"a\", \"b\"])\n",
    "# g.add_edge(\"a\",\"b\")\n",
    "# key_pairs_dictr_occur_probs\n",
    "# key_pairs_dictr_occur_probs.keys()\n",
    "g.add_nodes_from([*key_pairs_dictr_occur_probs]) # key_pairs_dictr_occur_probs keys\n",
    "for master_key in [*key_pairs_dictr_occur_probs]:\n",
    "    [g.add_edge(master_key,child_key) for child_key in [*key_pairs_dictr_occur_probs[master_key]]]\n",
    "nx.draw(g,with_labels=True)\n",
    "plt.draw()\n",
    "plt.show()"
   ]
  },
  {
   "cell_type": "markdown",
   "metadata": {},
   "source": [
    "- `Test Case`"
   ]
  },
  {
   "cell_type": "code",
   "execution_count": 49,
   "metadata": {},
   "outputs": [
    {
     "name": "stdout",
     "output_type": "stream",
     "text": [
      "good weather\n"
     ]
    }
   ],
   "source": [
    "##### complete sentence, we want to test is : \"good weather to play cricket in ground\" \n",
    "test_data = \"good weather\"\n",
    "print(test_data)"
   ]
  },
  {
   "cell_type": "code",
   "execution_count": 50,
   "metadata": {},
   "outputs": [
    {
     "name": "stdout",
     "output_type": "stream",
     "text": [
      "test_words_list -->  ['good', 'weather']\n"
     ]
    }
   ],
   "source": [
    "test_words_list = test_data.split()\n",
    "print(\"test_words_list --> \", test_words_list)"
   ]
  },
  {
   "cell_type": "code",
   "execution_count": 52,
   "metadata": {},
   "outputs": [
    {
     "name": "stdout",
     "output_type": "stream",
     "text": [
      "Chain List -->  ['good', 'weather']\n"
     ]
    }
   ],
   "source": [
    "predict_words_n = 5\n",
    "chain_list = test_words_list\n",
    "print(\"Chain List --> \", chain_list)"
   ]
  },
  {
   "cell_type": "code",
   "execution_count": 58,
   "metadata": {},
   "outputs": [
    {
     "name": "stdout",
     "output_type": "stream",
     "text": [
      "Next 5 Predicted Words -->  ['good', 'weather', 'to', 'play', 'in', 'ground.', 'to']\n"
     ]
    }
   ],
   "source": [
    "######################################################################################################### \n",
    "# Predicting Next Word Based on Current Word : Next word would be looked up from key-pair dictionary & \n",
    "# selected highest probability value from list of values, instead of random choice \n",
    "#########################################################################################################\n",
    "counter = 1\n",
    "while counter <= predict_words_n:\n",
    "    # print(chain_list[-1], key_pairs_dictr_occur_probs[chain_list[-1]], max(key_pairs_dictr_occur_probs[chain_list[-1]], key=key_pairs_dictr_occur_probs[chain_list[-1]].get))\n",
    "    chain_list.append( # For example --> key(weather)\n",
    "        max(key_pairs_dictr_occur_probs[chain_list[-1]], # Gets occurance value list based on key --> {'is': 0.4, 'to': 0.6}\n",
    "            key=key_pairs_dictr_occur_probs[chain_list[-1]].get) # Finds max value(key) out of value list \"to\"\n",
    "    )\n",
    "    counter += 1\n",
    "\n",
    "print(\"Next 5 Predicted Words --> \", chain_list)"
   ]
  },
  {
   "cell_type": "markdown",
   "metadata": {},
   "source": [
    "### `Observation`\n",
    " - Here we are predicting next word/state based on current word, by finding the word that occured next w.r.t to current word, most of the times when current word occured. \n",
    " - Here instead of random choice, we are going based on probability values."
   ]
  },
  {
   "cell_type": "markdown",
   "metadata": {},
   "source": [
    "#### `Reference Articles`\n",
    "- https://python.plainenglish.io/word-prediction-with-markov-chains-in-python-d685eed4b0b3\n",
    "- https://www.datacamp.com/community/tutorials/markov-chains-python-tutorial\n",
    "- https://www.machinelearningplus.com/markov-chain/\n",
    "- https://www.upgrad.com/blog/markov-chain-in-python-tutorial/\n",
    "- https://ericmjl.github.io/essays-on-data-science/machine-learning/markov-models/\n",
    "- http://www.blackarbs.com/blog/introduction-hidden-markov-models-python-networkx-sklearn/2/9/2017\n",
    "- https://pythonhosted.org/prob140/pykov_tutorial.html\n",
    "- https://linuxtut.com/en/4edd10a06d1c606aaef4/\n",
    "- https://linuxtut.com/en/673b6ad920329875823c/\n",
    "- https://stackoverflow.com/questions/32375679/ipython-notebook-plotting-transition-diagrams"
   ]
  }
 ],
 "metadata": {
  "interpreter": {
   "hash": "40d3a090f54c6569ab1632332b64b2c03c39dcf918b08424e98f38b5ae0af88f"
  },
  "kernelspec": {
   "display_name": "Python 3.7.4 64-bit ('base': conda)",
   "name": "python3"
  },
  "language_info": {
   "codemirror_mode": {
    "name": "ipython",
    "version": 3
   },
   "file_extension": ".py",
   "mimetype": "text/x-python",
   "name": "python",
   "nbconvert_exporter": "python",
   "pygments_lexer": "ipython3",
   "version": "3.7.4"
  },
  "orig_nbformat": 4
 },
 "nbformat": 4,
 "nbformat_minor": 2
}
