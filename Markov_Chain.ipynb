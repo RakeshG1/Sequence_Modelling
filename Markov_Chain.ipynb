{
 "cells": [
  {
   "cell_type": "markdown",
   "metadata": {},
   "source": [
    "### `About Markov Chain`\n",
    "- Source Link `https://www.edureka.co/blog/introduction-to-markov-chains/`\n",
    "- What Is A Markov Chain?\n",
    "  - A stochastic process containing random variables, transitioning from one state to another depending on certain assumptions.\n",
    "  - These random variables transition from one to state to the other, based on an important mathematical property called Markov Property.\n",
    "- What Is The Markov Property?\n",
    "  - Discrete Time Markov Property states that the calculated probability of a next possible state is only dependent on the current state\n",
    "  - According to Markov Chain next state depends only on current state but not the states prior to it.\n",
    "- Applications\n",
    "  - Text generation\n",
    "  - Auto-completion applications."
   ]
  },
  {
   "cell_type": "markdown",
   "metadata": {},
   "source": [
    "### `Import Libraries`"
   ]
  },
  {
   "cell_type": "code",
   "execution_count": 4,
   "metadata": {},
   "outputs": [],
   "source": [
    "import pandas as pd \n",
    "import numpy as np\n",
    "import json\n",
    "import warnings\n",
    "\n",
    "warnings.filterwarnings(\"ignore\")"
   ]
  },
  {
   "cell_type": "markdown",
   "metadata": {},
   "source": [
    "### `Sample Data`"
   ]
  },
  {
   "cell_type": "markdown",
   "metadata": {},
   "source": [
    "- `Test Case`"
   ]
  },
  {
   "cell_type": "code",
   "execution_count": 5,
   "metadata": {},
   "outputs": [
    {
     "name": "stdout",
     "output_type": "stream",
     "text": [
      "good weather\n"
     ]
    }
   ],
   "source": [
    "##### complete sentence, we want to test is : \"good weather to play cricket in ground\" \n",
    "test_data = \"good weather\"\n",
    "print(test_data)"
   ]
  },
  {
   "cell_type": "markdown",
   "metadata": {},
   "source": [
    "- `Reference Data for Next Text Prediction`"
   ]
  },
  {
   "cell_type": "code",
   "execution_count": 6,
   "metadata": {},
   "outputs": [
    {
     "name": "stdout",
     "output_type": "stream",
     "text": [
      "weather is good. play cricket. weather is good to play. people playing in ground. to play in ground. to play cricket in ground. nice weather to play in ground.\n",
      "              best time to play in ground. nice weather to play in ground. good weather to play cricket in ground. shall we play cricket in ground?\n"
     ]
    }
   ],
   "source": [
    "ref_data = '''weather is good. play cricket. weather is good to play. people playing in ground. to play in ground. to play cricket in ground. nice weather to play in ground.\n",
    "              best time to play in ground. nice weather to play in ground. good weather to play cricket in ground. shall we play cricket in ground?'''\n",
    "print(ref_data)"
   ]
  },
  {
   "cell_type": "markdown",
   "metadata": {},
   "source": [
    "- `Data Split`"
   ]
  },
  {
   "cell_type": "code",
   "execution_count": 7,
   "metadata": {},
   "outputs": [
    {
     "name": "stdout",
     "output_type": "stream",
     "text": [
      "['weather', 'is', 'good.', 'play', 'cricket.', 'weather', 'is', 'good', 'to', 'play.', 'people', 'playing', 'in', 'ground.', 'to', 'play', 'in', 'ground.', 'to', 'play', 'cricket', 'in', 'ground.', 'nice', 'weather', 'to', 'play', 'in', 'ground.', 'best', 'time', 'to', 'play', 'in', 'ground.', 'nice', 'weather', 'to', 'play', 'in', 'ground.', 'good', 'weather', 'to', 'play', 'cricket', 'in', 'ground.', 'shall', 'we', 'play', 'cricket', 'in', 'ground?']\n"
     ]
    }
   ],
   "source": [
    "text_corpus = ref_data.split()\n",
    "print(text_corpus)"
   ]
  },
  {
   "cell_type": "markdown",
   "metadata": {},
   "source": [
    "- `Key Pair Formation Based on Current & Next Word`"
   ]
  },
  {
   "cell_type": "code",
   "execution_count": 8,
   "metadata": {},
   "outputs": [],
   "source": [
    "def get_word_pairs(text_corpus):\n",
    "    ''' \n",
    "    This functions reads Text Corpus and creates word-pairs\n",
    "    Word Pair : Present Word, Next Word\n",
    "    '''\n",
    "    for i in range(len(text_corpus) - 1):\n",
    "        yield (text_corpus[i], text_corpus[i+1])"
   ]
  },
  {
   "cell_type": "code",
   "execution_count": 9,
   "metadata": {},
   "outputs": [
    {
     "name": "stdout",
     "output_type": "stream",
     "text": [
      "Key-Pairs-Dictr\n",
      "--------------------\n",
      "{'weather': ['is', 'is', 'to', 'to', 'to'], 'is': ['good.', 'good'], 'good.': 'play', 'play': ['cricket.', 'in', 'cricket', 'in', 'in', 'in', 'cricket', 'cricket'], 'cricket.': 'weather', 'good': ['to', 'weather'], 'to': ['play.', 'play', 'play', 'play', 'play', 'play', 'play'], 'play.': 'people', 'people': 'playing', 'playing': 'in', 'in': ['ground.', 'ground.', 'ground.', 'ground.', 'ground.', 'ground.', 'ground.', 'ground?'], 'ground.': ['to', 'to', 'nice', 'best', 'nice', 'good', 'shall'], 'cricket': ['in', 'in', 'in'], 'nice': ['weather', 'weather'], 'best': 'time', 'time': 'to', 'shall': 'we', 'we': 'play'}\n"
     ]
    }
   ],
   "source": [
    "##### Creating Word Pairs #####\n",
    "word_pairs = get_word_pairs(text_corpus)\n",
    "\n",
    "##### Creating Word Pairs Dictionary #####\n",
    "key_pairs_dictr = {}\n",
    "for word1, word2 in word_pairs:\n",
    "    if word1 in key_pairs_dictr.keys():\n",
    "        # print(\"     >> Inside If\")\n",
    "        # print(\"       \", word1, \", \", word2)\n",
    "        temp_list = []\n",
    "        temp_data = key_pairs_dictr[word1]\n",
    "        ##### If Key has single value\n",
    "        if type(temp_data)==str:\n",
    "            temp_list.append(temp_data)\n",
    "            temp_list.append(word2)\n",
    "            key_pairs_dictr[word1] = temp_list\n",
    "        ##### If Key has multiple list values    \n",
    "        else:\n",
    "            temp_data.append(word2)\n",
    "            key_pairs_dictr[word1] = temp_data\n",
    "    else:\n",
    "        # print(\"     >> Inside Else\")\n",
    "        key_pairs_dictr[word1] = word2\n",
    "\n",
    "print(\"Key-Pairs-Dictr\")\n",
    "print(\"--\"*10)\n",
    "print(key_pairs_dictr)"
   ]
  },
  {
   "cell_type": "markdown",
   "metadata": {},
   "source": [
    "- `Json View`"
   ]
  },
  {
   "cell_type": "code",
   "execution_count": 71,
   "metadata": {},
   "outputs": [
    {
     "name": "stdout",
     "output_type": "stream",
     "text": [
      "Json View\n",
      "----------\n",
      "{\n",
      "      \"weather\": [\n",
      "            \"is\",\n",
      "            \"is\",\n",
      "            \"to\",\n",
      "            \"to\",\n",
      "            \"to\"\n",
      "      ],\n",
      "      \"is\": [\n",
      "            \"good.\",\n",
      "            \"good\"\n",
      "      ],\n",
      "      \"good.\": \"play\",\n",
      "      \"play\": [\n",
      "            \"cricket.\",\n",
      "            \"in\",\n",
      "            \"cricket\",\n",
      "            \"in\",\n",
      "            \"in\",\n",
      "            \"in\",\n",
      "            \"cricket\",\n",
      "            \"cricket\"\n",
      "      ],\n",
      "      \"cricket.\": \"weather\",\n",
      "      \"good\": [\n",
      "            \"to\",\n",
      "            \"weather\"\n",
      "      ],\n",
      "      \"to\": [\n",
      "            \"play.\",\n",
      "            \"play\",\n",
      "            \"play\",\n",
      "            \"play\",\n",
      "            \"play\",\n",
      "            \"play\",\n",
      "            \"play\"\n",
      "      ],\n",
      "      \"play.\": \"people\",\n",
      "      \"people\": \"playing\",\n",
      "      \"playing\": \"in\",\n",
      "      \"in\": [\n",
      "            \"ground.\",\n",
      "            \"ground.\",\n",
      "            \"ground.\",\n",
      "            \"ground.\",\n",
      "            \"ground.\",\n",
      "            \"ground.\",\n",
      "            \"ground.\",\n",
      "            \"ground?\"\n",
      "      ],\n",
      "      \"ground.\": [\n",
      "            \"to\",\n",
      "            \"to\",\n",
      "            \"nice\",\n",
      "            \"best\",\n",
      "            \"nice\",\n",
      "            \"good\",\n",
      "            \"shall\"\n",
      "      ],\n",
      "      \"cricket\": [\n",
      "            \"in\",\n",
      "            \"in\",\n",
      "            \"in\"\n",
      "      ],\n",
      "      \"nice\": [\n",
      "            \"weather\",\n",
      "            \"weather\"\n",
      "      ],\n",
      "      \"best\": \"time\",\n",
      "      \"time\": \"to\",\n",
      "      \"shall\": \"we\",\n",
      "      \"we\": \"play\"\n",
      "}\n"
     ]
    }
   ],
   "source": [
    "print(json.dumps(key_pairs_dictr, indent=6))"
   ]
  },
  {
   "cell_type": "code",
   "execution_count": 91,
   "metadata": {},
   "outputs": [
    {
     "name": "stdout",
     "output_type": "stream",
     "text": [
      "test_words_list -->  ['good', 'weather']\n"
     ]
    }
   ],
   "source": [
    "test_words_list = test_data.split()\n",
    "print(\"test_words_list --> \", test_words_list)"
   ]
  },
  {
   "cell_type": "code",
   "execution_count": 92,
   "metadata": {},
   "outputs": [
    {
     "name": "stdout",
     "output_type": "stream",
     "text": [
      "Chain List -->  ['good', 'weather']\n"
     ]
    }
   ],
   "source": [
    "predict_words_n = 5\n",
    "chain_list = test_words_list\n",
    "print(\"Chain List --> \", chain_list)"
   ]
  },
  {
   "cell_type": "code",
   "execution_count": 93,
   "metadata": {},
   "outputs": [
    {
     "name": "stdout",
     "output_type": "stream",
     "text": [
      "Next Predicted Chain List -->  ['good', 'weather', 'to', 'play', 'in', 'ground.', 'nice']\n"
     ]
    }
   ],
   "source": [
    "##### Predicting Next Word Based on Current Word : Next word would be looked up from key-pair dictionary & selected randomly from list of values #####\n",
    "for i in range(predict_words_n):\n",
    "    chain_list.append(np.random.choice(key_pairs_dictr[chain_list[-1]]))\n",
    "\n",
    "print(\"Next Predicted Chain List --> \", chain_list)"
   ]
  },
  {
   "cell_type": "markdown",
   "metadata": {},
   "source": [
    "### `Observation`\n",
    " - Our starting words are \"good weather..\". From here next words which were predicted like above, nearly close to the actual sentence.\n",
    " - It's not predicted extremly well. But the next words prediction make sense using Markov Chain Logic in this example.\n",
    " - Markov Chain would work pretty good for data where next state is always same based on current state. \n",
    " - If next state changes randomly without based on current state, then this model would not able to give proper predictions."
   ]
  },
  {
   "cell_type": "markdown",
   "metadata": {},
   "source": [
    "### `Reference Articles`\n",
    "- https://www.edureka.co/blog/introduction-to-markov-chains/\n",
    "- https://ericmjl.github.io/essays-on-data-science/machine-learning/markov-models/\n",
    "- https://medium.com/analytics-vidhya/how-to-build-a-market-simulator-using-markov-chains-and-python-b925a106b1c4\n",
    "- https://www.kdnuggets.com/2019/11/markov-chains-train-text-generation.html\n",
    "- https://www.upgrad.com/blog/markov-chain-in-python-tutorial/\n",
    "- https://medium.com/@balamurali_m/markov-chain-simple-example-with-python-985d33b14d19\n",
    "- https://www.geeksforgeeks.org/markov-chain/"
   ]
  }
 ],
 "metadata": {
  "interpreter": {
   "hash": "40d3a090f54c6569ab1632332b64b2c03c39dcf918b08424e98f38b5ae0af88f"
  },
  "kernelspec": {
   "display_name": "Python 3.7.4 64-bit ('base': conda)",
   "name": "python3"
  },
  "language_info": {
   "codemirror_mode": {
    "name": "ipython",
    "version": 3
   },
   "file_extension": ".py",
   "mimetype": "text/x-python",
   "name": "python",
   "nbconvert_exporter": "python",
   "pygments_lexer": "ipython3",
   "version": "3.7.4"
  },
  "orig_nbformat": 4
 },
 "nbformat": 4,
 "nbformat_minor": 2
}
